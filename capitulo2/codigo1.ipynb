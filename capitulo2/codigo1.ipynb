{
 "cells": [
  {
   "cell_type": "markdown",
   "source": [
    "# Fundamentos Em Python"
   ],
   "metadata": {}
  },
  {
   "cell_type": "markdown",
   "source": [
    "## Numero e Operadores matemático"
   ],
   "metadata": {}
  },
  {
   "cell_type": "markdown",
   "source": [
    "Python é uma linguagem interpretada, clara, de fácil leitura e bastante expressiva.\n",
    "\n",
    "código fonte m.py --> Byte code m.pyc --> Runtime PVM\n"
   ],
   "metadata": {}
  },
  {
   "cell_type": "markdown",
   "source": [
    "## Modos de executar programas em Python\n",
    "\n",
    "- Modo shell\n",
    "- Modo script(arquivos com extensão .py)\n",
    "- Modo interativo (Jupyer Notebook)\n",
    "\n",
    "Indentação é importante(1 tab ou 4 spaces)\n",
    "\n",
    "**Comentários em Python**\n",
    "\n",
    "Começam com o caracter # ou 3 aspas duplas \"\"\"...\"\"\""
   ],
   "metadata": {}
  },
  {
   "cell_type": "markdown",
   "source": [
    "### Dicas:\n",
    "\n",
    "- Clareza é importante. Mantenha seu código limpo e organizado.\n",
    "- Código esparso é melhor que código denso.\n",
    "- Sempre documente seu código\n",
    "- Siga os padrões não para criar complexidade, mas para manter a regra.\n",
    "- Erros nunca serão silenciosos, a menos que propositalmente.\n",
    "- Simples é melhor que complexo e complexo é melhor que complicado."
   ],
   "metadata": {}
  },
  {
   "cell_type": "markdown",
   "source": [
    "# Números e Operações Matemáticas"
   ],
   "metadata": {}
  },
  {
   "cell_type": "markdown",
   "source": [
    "1. Tipos de números em Python\n",
    "    - int\n",
    "    - flot\n",
    "    Podemos usar as funções int() e float() para\n",
    "    converter números.\n",
    "2. Funções e operações com números\n",
    "    - '+'    soma\n",
    "    - '-'    subtração\n",
    "    - '*'    multiplicação\n",
    "    - '/'    divisao\n",
    "    - '%'    módulo\n",
    "    - '**'   potência\n",
    "    \n",
    "3. Aritmética\n",
    "4. Operadores\n",
    "    - '=='   igualdade/equivalência\n",
    "    - '!='   Desigualdade/Inequivalência\n",
    "    - '>'    Maior que\n",
    "    - '<'    Menor que\n",
    "    - '>='   Maior que ou igual a\n",
    "    - '<='   Menor que ou igual a"
   ],
   "metadata": {}
  },
  {
   "cell_type": "markdown",
   "source": [
    "# Operações Matemáticas\n"
   ],
   "metadata": {}
  },
  {
   "cell_type": "code",
   "execution_count": 8,
   "source": [
    "# soma\n",
    "print(\"4 + 4 = \", 4 + 4)"
   ],
   "outputs": [
    {
     "output_type": "stream",
     "name": "stdout",
     "text": [
      "4 + 4 =  8\n"
     ]
    }
   ],
   "metadata": {}
  },
  {
   "cell_type": "code",
   "execution_count": 6,
   "source": [
    "# subtração\n",
    "print(\"5 - 6 = \", 5 - 6)"
   ],
   "outputs": [
    {
     "output_type": "stream",
     "name": "stdout",
     "text": [
      "5 - 6 =  -1\n"
     ]
    }
   ],
   "metadata": {}
  },
  {
   "cell_type": "code",
   "execution_count": 7,
   "source": [
    "# multiplicação\n",
    "print(\"4 X 5 = \", 4 * 5)"
   ],
   "outputs": [
    {
     "output_type": "stream",
     "name": "stdout",
     "text": [
      "4 X 5 =  20\n"
     ]
    }
   ],
   "metadata": {}
  },
  {
   "cell_type": "code",
   "execution_count": 9,
   "source": [
    "# Divisão\n",
    "print(\"8 / 4 = \", 8 / 4)"
   ],
   "outputs": [
    {
     "output_type": "stream",
     "name": "stdout",
     "text": [
      "8 / 4 =  2.0\n"
     ]
    }
   ],
   "metadata": {}
  },
  {
   "cell_type": "code",
   "execution_count": 10,
   "source": [
    "# Potência\n",
    "print(\"4 ^ 3 = \", 4 ** 3)"
   ],
   "outputs": [
    {
     "output_type": "stream",
     "name": "stdout",
     "text": [
      "4 ^ 3 =  64\n"
     ]
    }
   ],
   "metadata": {}
  },
  {
   "cell_type": "code",
   "execution_count": 11,
   "source": [
    "# Resto\n",
    "print(\"resto de 4 dividido por 3 é igual há \", 4 % 3)"
   ],
   "outputs": [
    {
     "output_type": "stream",
     "name": "stdout",
     "text": [
      "resto de 4 dividido por 3 é igual há  1\n"
     ]
    }
   ],
   "metadata": {}
  },
  {
   "cell_type": "markdown",
   "source": [
    "# Função Type\n"
   ],
   "metadata": {}
  },
  {
   "cell_type": "code",
   "execution_count": 13,
   "source": [
    "print(\"type(5) = \", type(5))\n",
    "print(\"type(5.0) = \", type(5.0))"
   ],
   "outputs": [
    {
     "output_type": "stream",
     "name": "stdout",
     "text": [
      "type(5) =  <class 'int'>\n",
      "type(5.0) =  <class 'float'>\n"
     ]
    }
   ],
   "metadata": {}
  },
  {
   "cell_type": "markdown",
   "source": [
    "# Function abs, round and pow\n"
   ],
   "metadata": {}
  },
  {
   "cell_type": "code",
   "execution_count": 14,
   "source": [
    "# return the absolotily value\n",
    "abs(-8)"
   ],
   "outputs": [
    {
     "output_type": "execute_result",
     "data": {
      "text/plain": [
       "8"
      ]
     },
     "metadata": {},
     "execution_count": 14
    }
   ],
   "metadata": {}
  },
  {
   "cell_type": "code",
   "execution_count": 16,
   "source": [
    "# return the value with rounding\n",
    "round(3.141529, 2)"
   ],
   "outputs": [
    {
     "output_type": "execute_result",
     "data": {
      "text/plain": [
       "3.14"
      ]
     },
     "metadata": {},
     "execution_count": 16
    }
   ],
   "metadata": {}
  },
  {
   "cell_type": "code",
   "execution_count": null,
   "source": [
    "# return the power number \n",
    "pow(4, 2)"
   ],
   "outputs": [],
   "metadata": {}
  }
 ],
 "metadata": {
  "kernelspec": {
   "name": "python3",
   "display_name": "Python 3.8.8 64-bit ('base': conda)"
  },
  "language_info": {
   "codemirror_mode": {
    "name": "ipython",
    "version": 3
   },
   "file_extension": ".py",
   "mimetype": "text/x-python",
   "name": "python",
   "nbconvert_exporter": "python",
   "pygments_lexer": "ipython3",
   "version": "3.8.8"
  },
  "interpreter": {
   "hash": "29a4f1eb95a0231e08864ab0a920e96544fd56a70817e0278ae61ac746c86942"
  }
 },
 "nbformat": 4,
 "nbformat_minor": 5
}