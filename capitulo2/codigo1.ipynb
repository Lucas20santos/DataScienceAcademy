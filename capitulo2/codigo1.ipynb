{
 "cells": [
  {
   "cell_type": "markdown",
   "id": "fe85e2bf",
   "metadata": {},
   "source": [
    "# Fundamentos Em Python"
   ]
  },
  {
   "cell_type": "markdown",
   "id": "77d4ca1f",
   "metadata": {},
   "source": [
    "## Numero e Operadores matemático"
   ]
  },
  {
   "cell_type": "markdown",
   "id": "d740cc13",
   "metadata": {},
   "source": [
    "Python é uma linguagem interpretada, clara, de fácil leitura e bastante expressiva.\n",
    "\n",
    "código fonte m.py --> Byte code m.pyc --> Runtime PVM\n"
   ]
  },
  {
   "cell_type": "markdown",
   "id": "0b977f2a",
   "metadata": {},
   "source": [
    "## Modos de executar programas em Python\n",
    "\n",
    "- Modo shell\n",
    "- Modo script(arquivos com extensão .py)\n",
    "- Modo interativo (Jupyer Notebook)\n",
    "\n",
    "Indentação é importante(1 tab ou 4 spaces)\n",
    "\n",
    "**Comentários em Python**\n",
    "\n",
    "Começam com o caracter # ou 3 aspas duplas \"\"\"...\"\"\""
   ]
  },
  {
   "cell_type": "markdown",
   "id": "881ebd78",
   "metadata": {},
   "source": [
    "### Dicas:\n",
    "\n",
    "- Clareza é importante. Mantenha seu código limpo e organizado.\n",
    "- Código esparso é melhor que código denso.\n",
    "- Sempre documente seu código\n",
    "- Siga os padrões não para criar complexidade, mas para manter a regra.\n",
    "- Erros nunca serão silenciosos, a menos que propositalmente.\n",
    "- Simples é melhor que complexo e complexo é melhor que complicado."
   ]
  },
  {
   "cell_type": "markdown",
   "id": "0a716719",
   "metadata": {},
   "source": [
    "# Números e Operações Matemáticas"
   ]
  },
  {
   "cell_type": "markdown",
   "id": "27a20f9c",
   "metadata": {},
   "source": [
    "1. Tipos de números em Python\n",
    "    - int\n",
    "    - flot\n",
    "    Podemos usar as funções int() e float() para\n",
    "    converter números.\n",
    "2. Funções e operações com números\n",
    "    - '+'    soma\n",
    "    - '-'    subtração\n",
    "    - '*'    multiplicação\n",
    "    - '/'    divisao\n",
    "    - '%'    módulo\n",
    "    - '**'   potência\n",
    "    \n",
    "3. Aritmética\n",
    "4. Operadores\n",
    "    - '=='   igualdade/equivalência\n",
    "    - '!='   Desigualdade/Inequivalência\n",
    "    - '>'    Maior que\n",
    "    - '<'    Menor que\n",
    "    - '>='   Maior que ou igual a\n",
    "    - '<='   Menor que ou igual a"
   ]
  }
 ],
 "metadata": {
  "kernelspec": {
   "display_name": "Python 3.8.8 64-bit ('base': conda)",
   "language": "python",
   "name": "python388jvsc74a57bd029a4f1eb95a0231e08864ab0a920e96544fd56a70817e0278ae61ac746c86942"
  },
  "language_info": {
   "codemirror_mode": {
    "name": "ipython",
    "version": 3
   },
   "file_extension": ".py",
   "mimetype": "text/x-python",
   "name": "python",
   "nbconvert_exporter": "python",
   "pygments_lexer": "ipython3",
   "version": "3.8.8"
  }
 },
 "nbformat": 4,
 "nbformat_minor": 5
}
