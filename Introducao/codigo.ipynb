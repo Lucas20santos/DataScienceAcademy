{
 "cells": [
  {
   "cell_type": "code",
   "execution_count": 2,
   "source": [
    "print(\"hello world\")\n"
   ],
   "outputs": [
    {
     "output_type": "stream",
     "name": "stdout",
     "text": [
      "hello world\n"
     ]
    }
   ],
   "metadata": {}
  },
  {
   "cell_type": "code",
   "execution_count": 9,
   "source": [
    "def fib(n):\n",
    "    a, b = 0, 1\n",
    "    for x in range(n):        \n",
    "        if a == 0:\n",
    "            a = b\n",
    "            b = b + x\n",
    "            print(a)\n",
    "            print(b)\n",
    "        if a != 0:\n",
    "            a = b\n",
    "            b = b + x\n",
    "            print(a)\n",
    "            print(b)\n",
    "        \n",
    "\n",
    "fib(5)"
   ],
   "outputs": [
    {
     "output_type": "stream",
     "name": "stdout",
     "text": [
      "0\n",
      "1\n",
      "1\n",
      "1\n",
      "1\n",
      "2\n",
      "2\n",
      "4\n",
      "4\n",
      "7\n"
     ]
    }
   ],
   "metadata": {}
  },
  {
   "cell_type": "code",
   "execution_count": null,
   "source": [],
   "outputs": [],
   "metadata": {}
  }
 ],
 "metadata": {
  "orig_nbformat": 4,
  "language_info": {
   "name": "python",
   "version": "3.8.8",
   "mimetype": "text/x-python",
   "codemirror_mode": {
    "name": "ipython",
    "version": 3
   },
   "pygments_lexer": "ipython3",
   "nbconvert_exporter": "python",
   "file_extension": ".py"
  },
  "kernelspec": {
   "name": "python3",
   "display_name": "Python 3.8.8 64-bit ('base': conda)"
  },
  "interpreter": {
   "hash": "29a4f1eb95a0231e08864ab0a920e96544fd56a70817e0278ae61ac746c86942"
  }
 },
 "nbformat": 4,
 "nbformat_minor": 2
}