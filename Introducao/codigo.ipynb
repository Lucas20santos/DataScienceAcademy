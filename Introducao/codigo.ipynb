{
 "cells": [
  {
   "cell_type": "code",
   "execution_count": null,
   "source": [
    "print(\"hello world\")"
   ],
   "outputs": [],
   "metadata": {}
  }
 ],
 "metadata": {
  "orig_nbformat": 4,
  "language_info": {
   "name": "python",
   "version": "3.8.8"
  },
  "kernelspec": {
   "name": "python3",
   "display_name": "Python 3.8.8 64-bit ('base': conda)"
  },
  "interpreter": {
   "hash": "29a4f1eb95a0231e08864ab0a920e96544fd56a70817e0278ae61ac746c86942"
  }
 },
 "nbformat": 4,
 "nbformat_minor": 2
}